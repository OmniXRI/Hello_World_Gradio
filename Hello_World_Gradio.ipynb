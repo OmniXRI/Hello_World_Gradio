{
  "nbformat": 4,
  "nbformat_minor": 0,
  "metadata": {
    "colab": {
      "provenance": []
    },
    "kernelspec": {
      "name": "python3",
      "display_name": "Python 3"
    },
    "language_info": {
      "name": "python"
    }
  },
  "cells": [
    {
      "cell_type": "markdown",
      "source": [],
      "metadata": {
        "id": "hiKb1i8hRGU3"
      }
    },
    {
      "cell_type": "markdown",
      "source": [
        "# Gradio 應用範例\n",
        "by Jack OmniXRI, 2024/12/15\n",
        "\n"
      ],
      "metadata": {
        "id": "J9mul7sHRiI_"
      }
    },
    {
      "cell_type": "markdown",
      "source": [
        "## 安裝 Gradio"
      ],
      "metadata": {
        "id": "fNGe1F1KSBju"
      }
    },
    {
      "cell_type": "code",
      "execution_count": 1,
      "metadata": {
        "id": "7GqdmUDlQytb"
      },
      "outputs": [],
      "source": [
        "!pip install -q gradio"
      ]
    },
    {
      "cell_type": "code",
      "source": [
        "import gradio as gr # 導入 Gradio 函式庫並令別名為 gr"
      ],
      "metadata": {
        "id": "k6ydp92gXFWN"
      },
      "execution_count": 2,
      "outputs": []
    },
    {
      "cell_type": "markdown",
      "source": [
        "## 文字輸入及輸出範例\n",
        "\n",
        "測試結果可直接呈現在 Jupyter Notebook 欄位上或本地端網址（Local URL, http://localhost:7860 ）或公共端網址（public URL, https://xxxx.gradio.live ），點擊網址即可看到結果。"
      ],
      "metadata": {
        "id": "VttqfAp3SK3R"
      }
    },
    {
      "cell_type": "markdown",
      "source": [
        "### *簡單應用界面一（簡單型）*\n",
        "\n",
        "當在 name 欄位輸入「名字」並按下「Submit」鍵，就會產生對應處理函式的輸出文字內容，這裡會得到「Hello 名字!!」 。\n",
        "\n",
        "當按下「Clear」鍵可清除輸入及輸出結果。  "
      ],
      "metadata": {
        "id": "kiFHwckUT2if"
      }
    },
    {
      "cell_type": "code",
      "source": [
        "#import gradio as gr # 導入 Gradio 函式庫並令別名為 gr\n",
        "\n",
        "# 定義 Gradio 輸出入處理函式 greet1()\n",
        "# 輸入文字： name（字串）\n",
        "# 輸出結果： \"Hello name!!\"（字串）\n",
        "def greet1(name):\n",
        "  return \"Hello \" + name + \"!!\"\n",
        "\n",
        "# 建立輸人及輸出簡單應用界面\n",
        "# fn: 界面函數名稱， inputs: 輸人格式， outputs: 輸出格式\n",
        "demo = gr.Interface(fn=greet1, inputs=\"text\", outputs=\"text\")\n",
        "\n",
        "# 執行顯示界面\n",
        "demo.launch()"
      ],
      "metadata": {
        "colab": {
          "base_uri": "https://localhost:8080/",
          "height": 648
        },
        "id": "Tj24cJTKTIeX",
        "outputId": "80c13971-0d7f-40f7-f732-152eac48d5ed"
      },
      "execution_count": 3,
      "outputs": [
        {
          "output_type": "stream",
          "name": "stdout",
          "text": [
            "Running Gradio in a Colab notebook requires sharing enabled. Automatically setting `share=True` (you can turn this off by setting `share=False` in `launch()` explicitly).\n",
            "\n",
            "Colab notebook detected. To show errors in colab notebook, set debug=True in launch()\n",
            "* Running on public URL: https://c8f2c85ada40d63d49.gradio.live\n",
            "\n",
            "This share link expires in 72 hours. For free permanent hosting and GPU upgrades, run `gradio deploy` from the terminal in the working directory to deploy to Hugging Face Spaces (https://huggingface.co/spaces)\n"
          ]
        },
        {
          "output_type": "display_data",
          "data": {
            "text/plain": [
              "<IPython.core.display.HTML object>"
            ],
            "text/html": [
              "<div><iframe src=\"https://c8f2c85ada40d63d49.gradio.live\" width=\"100%\" height=\"500\" allow=\"autoplay; camera; microphone; clipboard-read; clipboard-write;\" frameborder=\"0\" allowfullscreen></iframe></div>"
            ]
          },
          "metadata": {}
        },
        {
          "output_type": "execute_result",
          "data": {
            "text/plain": []
          },
          "metadata": {},
          "execution_count": 3
        }
      ]
    },
    {
      "cell_type": "markdown",
      "source": [
        "### *簡單應用介面二（複雜型）*\n",
        "\n",
        "在這個範例可指定較複雜的設定。\n",
        "\n",
        "當在 name 欄位輸入「名字」，點選或解除「是早上」複選盒，拉動滑桿或直接輸入華氏溫度數值並按下「Submit」鍵，就會產生處理函式的輸出文字內容及溫度。\n",
        "\n",
        "當按下「Clear」鍵可清除輸入及輸出結果。  "
      ],
      "metadata": {
        "id": "S75VsTuMILkJ"
      }
    },
    {
      "cell_type": "code",
      "source": [
        "#import gradio as gr # 導入 Gradio 函式庫並令別名為 gr\n",
        "\n",
        "# 定義 Gradio 輸出入處理函式 greet2()\n",
        "# 輸入： name（字串）、is_morning（布林值）、temperature（數值）\n",
        "# 輸出： \"Good morning name, It is xx.x ℉ today\"（字串）、攝氏溫度（數值）\n",
        "def greet2(name, is_morning, temperature):\n",
        "    salutation = \"Good morning\" if is_morning else \"Good evening\" # 若複選盒有勾選則輸出 \"Good morning\", 否則輸出 \"Good evening\"\n",
        "    greeting = f\"{salutation} {name}. It is {temperature} ℉ today\" # 組合輸出用字串\n",
        "    celsius = (temperature - 32) * 5 / 9 # 將華氏溫度轉成攝氏\n",
        "    return greeting, round(celsius, 2)\n",
        "\n",
        "# 建立輸人及輸出簡單應用界面\n",
        "# fn: 界面函數名稱\n",
        "# inputs: 輸人格式， 名字（字串）、是早上（複選盒）、華氏溫度（滑桿，最小值0，最大值100，預設值50）\n",
        "# outputs: 輸出格式，結果字串（標籤 Reslut）、結果溫度（標籤 攝氏（℃））\n",
        "demo = gr.Interface(\n",
        "    fn=greet2,\n",
        "    inputs=[gr.Textbox(placeholder=\"請輸入姓名\", label=\"姓名\"), \"checkbox\", gr.Slider(0, 100, value=50, label=\"華氏（℉）\")],\n",
        "    outputs=[gr.Textbox(label=\"輸出\"), gr.Textbox(label=\"攝氏（℃）\")],\n",
        ")\n",
        "\n",
        "# 執行顯示界面\n",
        "demo.launch()"
      ],
      "metadata": {
        "colab": {
          "base_uri": "https://localhost:8080/",
          "height": 648
        },
        "id": "yy-X9ii7IKiR",
        "outputId": "46528381-10ff-4653-a038-bcee09cfb623"
      },
      "execution_count": 4,
      "outputs": [
        {
          "output_type": "stream",
          "name": "stdout",
          "text": [
            "Running Gradio in a Colab notebook requires sharing enabled. Automatically setting `share=True` (you can turn this off by setting `share=False` in `launch()` explicitly).\n",
            "\n",
            "Colab notebook detected. To show errors in colab notebook, set debug=True in launch()\n",
            "* Running on public URL: https://11b11542480c443842.gradio.live\n",
            "\n",
            "This share link expires in 72 hours. For free permanent hosting and GPU upgrades, run `gradio deploy` from the terminal in the working directory to deploy to Hugging Face Spaces (https://huggingface.co/spaces)\n"
          ]
        },
        {
          "output_type": "display_data",
          "data": {
            "text/plain": [
              "<IPython.core.display.HTML object>"
            ],
            "text/html": [
              "<div><iframe src=\"https://11b11542480c443842.gradio.live\" width=\"100%\" height=\"500\" allow=\"autoplay; camera; microphone; clipboard-read; clipboard-write;\" frameborder=\"0\" allowfullscreen></iframe></div>"
            ]
          },
          "metadata": {}
        },
        {
          "output_type": "execute_result",
          "data": {
            "text/plain": []
          },
          "metadata": {},
          "execution_count": 4
        }
      ]
    },
    {
      "cell_type": "markdown",
      "source": [
        "### 執行預設計 GUI (*.py)\n",
        "\n",
        "假設想要把上一步驟的 GUI 變成可引用之函式，可將後半段程式變成名為 launch_demo 的函式，再將程式儲存成 gradio_test.py 的程式，放在同一路徑下即可。\n",
        "\n",
        "若在 Colab 下運行本程式時，需先自行下載到 Colab 提供的臨時雲端硬碟，預設路徑為 sample_data。由於執行路徑並不包含此路徑，所以還需使用 sys.path.append() 將預設使用者根目錄 sample_data 路徑加入，才能正確引用。\n",
        "\n",
        "若在本地端執行則不用增加該目錄。\n",
        "\n"
      ],
      "metadata": {
        "id": "AHcRat_dqsNG"
      }
    },
    {
      "cell_type": "code",
      "source": [
        "import requests\n",
        "from pathlib import Path\n",
        "import sys\n",
        "\n",
        "sys.path.append('sample_data')\n",
        "\n",
        "r = requests.get(\n",
        "    url=\"https://raw.githubusercontent.com/OmniXRI/Hello_World_Gradio/blob/main/gradio_test.py\",\n",
        ")\n",
        "open(\"gradio.py\", \"w\").write(r.text)\n",
        "\n",
        "from gradio_test import launch_demo\n",
        "\n",
        "launch_demo()"
      ],
      "metadata": {
        "colab": {
          "base_uri": "https://localhost:8080/",
          "height": 214
        },
        "id": "F7T1zXfnqq1U",
        "outputId": "2ee317c9-d952-4a66-857f-3e517cc54dd0"
      },
      "execution_count": 7,
      "outputs": [
        {
          "output_type": "error",
          "ename": "NameError",
          "evalue": "name 'requests' is not defined",
          "traceback": [
            "\u001b[0;31m---------------------------------------------------------------------------\u001b[0m",
            "\u001b[0;31mNameError\u001b[0m                                 Traceback (most recent call last)",
            "\u001b[0;32m<ipython-input-7-3db1d5f4620e>\u001b[0m in \u001b[0;36m<cell line: 1>\u001b[0;34m()\u001b[0m\n\u001b[0;32m----> 1\u001b[0;31m r = requests.get(\n\u001b[0m\u001b[1;32m      2\u001b[0m     \u001b[0murl\u001b[0m\u001b[0;34m=\u001b[0m\u001b[0;34m\"https://raw.githubusercontent.com/openvinotoolkit/openvino_notebooks/latest/utils/notebook_utils.py\"\u001b[0m\u001b[0;34m,\u001b[0m\u001b[0;34m\u001b[0m\u001b[0;34m\u001b[0m\u001b[0m\n\u001b[1;32m      3\u001b[0m )\n\u001b[1;32m      4\u001b[0m \u001b[0mopen\u001b[0m\u001b[0;34m(\u001b[0m\u001b[0;34m\"gradio.py\"\u001b[0m\u001b[0;34m,\u001b[0m \u001b[0;34m\"w\"\u001b[0m\u001b[0;34m)\u001b[0m\u001b[0;34m.\u001b[0m\u001b[0mwrite\u001b[0m\u001b[0;34m(\u001b[0m\u001b[0mr\u001b[0m\u001b[0;34m.\u001b[0m\u001b[0mtext\u001b[0m\u001b[0;34m)\u001b[0m\u001b[0;34m\u001b[0m\u001b[0;34m\u001b[0m\u001b[0m\n\u001b[1;32m      5\u001b[0m \u001b[0;34m\u001b[0m\u001b[0m\n",
            "\u001b[0;31mNameError\u001b[0m: name 'requests' is not defined"
          ]
        }
      ]
    },
    {
      "cell_type": "code",
      "source": [],
      "metadata": {
        "id": "RPsG8atHqaMT"
      },
      "execution_count": 6,
      "outputs": []
    }
  ]
}
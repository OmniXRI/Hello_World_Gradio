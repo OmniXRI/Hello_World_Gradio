{
  "nbformat": 4,
  "nbformat_minor": 0,
  "metadata": {
    "colab": {
      "provenance": []
    },
    "kernelspec": {
      "name": "python3",
      "display_name": "Python 3"
    },
    "language_info": {
      "name": "python"
    }
  },
  "cells": [
    {
      "cell_type": "markdown",
      "source": [
        "# Gradio 應用範例（基礎篇）\n",
        "by Jack OmniXRI, 2024/12/15\n",
        "\n",
        "本範例為 Gradio 基礎應用，如下所示。如想了解更多使用方式，可參考 [1]，更完整範例（含測試檔案）可參考 [2]。範例完整說明請參考 [3]。\n",
        "\n",
        "\n",
        "1.安裝 Gradio 及必要函式庫  \n",
        "2.文字輸入及輸出範例  \n",
        "    2.1.簡單應用介面一（簡單型）  \n",
        "    2.2.簡單應用介面二（自定義型）  \n",
        "    2.3.執行預設計 GUI (*.py)  \n",
        "3.影像輸出入範例  \n",
        "    3.1.使用 numpy 格式影像  \n",
        "    3.2.使用 OpenCV 格式影像  \n",
        "4.影音輸出入範例  \n",
        "\n",
        "參考文獻：  \n",
        "[1] Gradio Document  https://www.gradio.app/docs  \n",
        "[2] OmniXRI Github  https://github.com/OmniXRI/Hello_World_Gradio  \n",
        "[3] 【vMaker Edge AI專欄 #24】 如何使用 Gradio 快速搭建人工智慧應用圖形化人機介面  https://omnixri.blogspot.com/2024/12/vmaker-edge-ai-24-gradio.html"
      ],
      "metadata": {
        "id": "J9mul7sHRiI_"
      }
    },
    {
      "cell_type": "markdown",
      "source": [
        "## 1.安裝 Gradio 及必要函式庫"
      ],
      "metadata": {
        "id": "fNGe1F1KSBju"
      }
    },
    {
      "cell_type": "code",
      "execution_count": 1,
      "metadata": {
        "id": "7GqdmUDlQytb",
        "colab": {
          "base_uri": "https://localhost:8080/"
        },
        "outputId": "8b8b9198-aa99-4e22-985e-e97d9d52682d"
      },
      "outputs": [
        {
          "output_type": "stream",
          "name": "stdout",
          "text": [
            "\u001b[2K   \u001b[90m━━━━━━━━━━━━━━━━━━━━━━━━━━━━━━━━━━━━━━━━\u001b[0m \u001b[32m57.2/57.2 MB\u001b[0m \u001b[31m12.1 MB/s\u001b[0m eta \u001b[36m0:00:00\u001b[0m\n",
            "\u001b[2K   \u001b[90m━━━━━━━━━━━━━━━━━━━━━━━━━━━━━━━━━━━━━━━━\u001b[0m \u001b[32m320.2/320.2 kB\u001b[0m \u001b[31m17.8 MB/s\u001b[0m eta \u001b[36m0:00:00\u001b[0m\n",
            "\u001b[2K   \u001b[90m━━━━━━━━━━━━━━━━━━━━━━━━━━━━━━━━━━━━━━━━\u001b[0m \u001b[32m94.8/94.8 kB\u001b[0m \u001b[31m7.0 MB/s\u001b[0m eta \u001b[36m0:00:00\u001b[0m\n",
            "\u001b[2K   \u001b[90m━━━━━━━━━━━━━━━━━━━━━━━━━━━━━━━━━━━━━━━━\u001b[0m \u001b[32m11.2/11.2 MB\u001b[0m \u001b[31m91.5 MB/s\u001b[0m eta \u001b[36m0:00:00\u001b[0m\n",
            "\u001b[2K   \u001b[90m━━━━━━━━━━━━━━━━━━━━━━━━━━━━━━━━━━━━━━━━\u001b[0m \u001b[32m73.2/73.2 kB\u001b[0m \u001b[31m5.4 MB/s\u001b[0m eta \u001b[36m0:00:00\u001b[0m\n",
            "\u001b[2K   \u001b[90m━━━━━━━━━━━━━━━━━━━━━━━━━━━━━━━━━━━━━━━━\u001b[0m \u001b[32m63.8/63.8 kB\u001b[0m \u001b[31m4.4 MB/s\u001b[0m eta \u001b[36m0:00:00\u001b[0m\n",
            "\u001b[2K   \u001b[90m━━━━━━━━━━━━━━━━━━━━━━━━━━━━━━━━━━━━━━━━\u001b[0m \u001b[32m168.2/168.2 kB\u001b[0m \u001b[31m12.0 MB/s\u001b[0m eta \u001b[36m0:00:00\u001b[0m\n",
            "\u001b[?25hRequirement already satisfied: requests in /usr/local/lib/python3.10/dist-packages (2.32.3)\n",
            "Requirement already satisfied: charset-normalizer<4,>=2 in /usr/local/lib/python3.10/dist-packages (from requests) (3.4.0)\n",
            "Requirement already satisfied: idna<4,>=2.5 in /usr/local/lib/python3.10/dist-packages (from requests) (3.10)\n",
            "Requirement already satisfied: urllib3<3,>=1.21.1 in /usr/local/lib/python3.10/dist-packages (from requests) (2.2.3)\n",
            "Requirement already satisfied: certifi>=2017.4.17 in /usr/local/lib/python3.10/dist-packages (from requests) (2024.8.30)\n",
            "Requirement already satisfied: numpy in /usr/local/lib/python3.10/dist-packages (1.26.4)\n"
          ]
        }
      ],
      "source": [
        "!pip install -q gradio\n",
        "!pip install requests\n",
        "!pip install numpy\n",
        "#!pip install opencv-pytho # Colab 預設已安裝，本地端可依需要開啟安裝\n",
        "\n",
        "import gradio as gr # 導入 gradio 函式庫並令別名為 gr\n",
        "import numpy as np  # 導入 numpy 函式庫並令別名為 np\n",
        "#import cv2 # 導入 opencv 函式庫"
      ]
    },
    {
      "cell_type": "markdown",
      "source": [
        "## 2.文字輸入及輸出範例\n",
        "\n",
        "測試結果可直接呈現在 Jupyter Notebook 欄位上或本地端網址（Local URL, http://localhost:7860 ）或公共端網址（public URL, https://xxxx.gradio.live ），點擊網址即可看到結果。"
      ],
      "metadata": {
        "id": "VttqfAp3SK3R"
      }
    },
    {
      "cell_type": "markdown",
      "source": [
        "### 2.1.簡單應用介面一（簡單型）\n",
        "\n",
        "當在 name 欄位輸入「名字」並按下「Submit」鍵，就會產生對應處理函式的輸出文字內容，這裡會得到「Hello 名字!!」 。\n",
        "\n",
        "當按下「Clear」鍵可清除輸入及輸出結果。  "
      ],
      "metadata": {
        "id": "kiFHwckUT2if"
      }
    },
    {
      "cell_type": "code",
      "source": [
        "#import gradio as gr # 導入 gradio 函式庫並令別名為 gr\n",
        "\n",
        "# 定義 Gradio 輸出入處理函式 greet1()\n",
        "# 輸入文字： name（字串）\n",
        "# 輸出結果： \"Hello name!!\"（字串）\n",
        "def greet1(name):\n",
        "  return \"Hello \" + name + \"!!\"\n",
        "\n",
        "# 建立輸人及輸出簡單應用介面\n",
        "# fn: 介面函數名稱， inputs: 輸人格式， outputs: 輸出格式\n",
        "demo = gr.Interface(fn=greet1, inputs=\"text\", outputs=\"text\")\n",
        "\n",
        "# 執行顯示介面\n",
        "demo.launch()"
      ],
      "metadata": {
        "colab": {
          "base_uri": "https://localhost:8080/",
          "height": 648
        },
        "id": "Tj24cJTKTIeX",
        "outputId": "bb2028c2-36b2-46c2-ad68-f749fd6111db"
      },
      "execution_count": 2,
      "outputs": [
        {
          "output_type": "stream",
          "name": "stdout",
          "text": [
            "Running Gradio in a Colab notebook requires sharing enabled. Automatically setting `share=True` (you can turn this off by setting `share=False` in `launch()` explicitly).\n",
            "\n",
            "Colab notebook detected. To show errors in colab notebook, set debug=True in launch()\n",
            "* Running on public URL: https://4c1bf7e4aa3ba967d8.gradio.live\n",
            "\n",
            "This share link expires in 72 hours. For free permanent hosting and GPU upgrades, run `gradio deploy` from the terminal in the working directory to deploy to Hugging Face Spaces (https://huggingface.co/spaces)\n"
          ]
        },
        {
          "output_type": "display_data",
          "data": {
            "text/plain": [
              "<IPython.core.display.HTML object>"
            ],
            "text/html": [
              "<div><iframe src=\"https://4c1bf7e4aa3ba967d8.gradio.live\" width=\"100%\" height=\"500\" allow=\"autoplay; camera; microphone; clipboard-read; clipboard-write;\" frameborder=\"0\" allowfullscreen></iframe></div>"
            ]
          },
          "metadata": {}
        },
        {
          "output_type": "execute_result",
          "data": {
            "text/plain": []
          },
          "metadata": {},
          "execution_count": 2
        }
      ]
    },
    {
      "cell_type": "markdown",
      "source": [
        "### 2.2.簡單應用介面二（自定義型）\n",
        "\n",
        "在這個範例可指定較複雜的設定，具有多個輸入和輸出。  \n",
        "\n",
        "當在 name 欄位輸入「名字」，點選或解除「是早上」複選盒，拉動滑桿或直接輸入華氏溫度數值並按下「Submit」鍵，就會產生處理函式的輸出文字內容及溫度。\n",
        "\n",
        "當按下「Clear」鍵可清除輸入及輸出結果。  "
      ],
      "metadata": {
        "id": "S75VsTuMILkJ"
      }
    },
    {
      "cell_type": "code",
      "source": [
        "#import gradio as gr # 導入 gradio 函式庫並令別名為 gr\n",
        "\n",
        "# 定義 Gradio 輸出入處理函式 greet2()\n",
        "# 輸入： name（字串）、is_morning（布林值）、temperature（數值）\n",
        "# 輸出： \"Good morning name, It is xx.x ℉ today\"（字串）、攝氏溫度（數值）\n",
        "def greet2(name, is_morning, temperature):\n",
        "    salutation = \"Good morning\" if is_morning else \"Good evening\" # 若複選盒有勾選則輸出 \"Good morning\", 否則輸出 \"Good evening\"\n",
        "    greeting = f\"{salutation} {name}. It is {temperature} ℉ today\" # 組合輸出用字串\n",
        "    celsius = (temperature - 32) * 5 / 9 # 將華氏溫度轉成攝氏\n",
        "    return greeting, round(celsius, 2)\n",
        "\n",
        "# 建立輸人及輸出簡單應用介面\n",
        "# fn: 介面函數名稱\n",
        "# inputs: 輸人格式， 名字（標籤：名字）、是早上（複選盒）、華氏溫度（標籤：華氏（℉），滑桿，最小值0，最大值100，預設值50）\n",
        "# outputs: 輸出格式，結果字串（標籤:輸出）、結果溫度（標籤：攝氏（℃））\n",
        "demo = gr.Interface(\n",
        "    fn=greet2,\n",
        "    inputs=[gr.Textbox(placeholder=\"請輸入姓名\", label=\"姓名\"),\n",
        "            \"checkbox\",\n",
        "            gr.Slider(0, 100, value=50, label=\"華氏（℉）\") ],\n",
        "    outputs=[gr.Textbox(label=\"輸出\"),\n",
        "             gr.Textbox(label=\"攝氏（℃）\") ],\n",
        ")\n",
        "\n",
        "# 執行顯示介面\n",
        "demo.launch()"
      ],
      "metadata": {
        "colab": {
          "base_uri": "https://localhost:8080/",
          "height": 648
        },
        "id": "yy-X9ii7IKiR",
        "outputId": "0b560025-fd7c-4fe1-e1e5-8a76ae4fb072"
      },
      "execution_count": 3,
      "outputs": [
        {
          "output_type": "stream",
          "name": "stdout",
          "text": [
            "Running Gradio in a Colab notebook requires sharing enabled. Automatically setting `share=True` (you can turn this off by setting `share=False` in `launch()` explicitly).\n",
            "\n",
            "Colab notebook detected. To show errors in colab notebook, set debug=True in launch()\n",
            "* Running on public URL: https://eaf24f114bf5036dbe.gradio.live\n",
            "\n",
            "This share link expires in 72 hours. For free permanent hosting and GPU upgrades, run `gradio deploy` from the terminal in the working directory to deploy to Hugging Face Spaces (https://huggingface.co/spaces)\n"
          ]
        },
        {
          "output_type": "display_data",
          "data": {
            "text/plain": [
              "<IPython.core.display.HTML object>"
            ],
            "text/html": [
              "<div><iframe src=\"https://eaf24f114bf5036dbe.gradio.live\" width=\"100%\" height=\"500\" allow=\"autoplay; camera; microphone; clipboard-read; clipboard-write;\" frameborder=\"0\" allowfullscreen></iframe></div>"
            ]
          },
          "metadata": {}
        },
        {
          "output_type": "execute_result",
          "data": {
            "text/plain": []
          },
          "metadata": {},
          "execution_count": 3
        }
      ]
    },
    {
      "cell_type": "markdown",
      "source": [
        "### 2.3.執行預設計 GUI (*.py)\n",
        "\n",
        "假設想要把上一步驟的 GUI 變成可引用之函式，可將後半段程式變成名為 launch_demo 的函式，再將程式儲存成 gradio_test.py 的程式，放在同一路徑下即可。\n",
        "\n",
        "若在 Colab 下執行本程式時，需先自行下載到 Colab 提供的臨時雲端硬碟，預設使用者根目錄路徑為 content。\n",
        "\n",
        "由於執行路徑並不包含此路徑，所以還需使用 sys.path.append() 將路徑加入才能正確引用。\n",
        "\n",
        "若在本地端執行則不用增加該目錄。\n",
        "\n"
      ],
      "metadata": {
        "id": "AHcRat_dqsNG"
      }
    },
    {
      "cell_type": "code",
      "source": [
        "import requests\n",
        "from pathlib import Path\n",
        "import sys\n",
        "\n",
        "# 從 Github 下載 gradio_test.py 並存於使用者根目錄\n",
        "r = requests.get(\n",
        "    url=\"https://raw.githubusercontent.com/OmniXRI/Hello_World_Gradio/main/gradio_test.py\",\n",
        ")\n",
        "open(\"gradio_test.py\", \"w\").write(r.text)\n",
        "\n",
        "sys.path.append('./')  # 在 Colab 使用者根目錄 ./ 預設在 /content，將其加入方便開啟下載之檔案"
      ],
      "metadata": {
        "id": "F7T1zXfnqq1U"
      },
      "execution_count": 4,
      "outputs": []
    },
    {
      "cell_type": "code",
      "source": [
        "from gradio_test import launch_demo\n",
        "\n",
        "launch_demo() # 執行預設 GUI"
      ],
      "metadata": {
        "colab": {
          "base_uri": "https://localhost:8080/",
          "height": 648
        },
        "id": "rMWg_8opBjkq",
        "outputId": "d34b9101-b006-4e3f-b0c6-4b283c25c063"
      },
      "execution_count": 5,
      "outputs": [
        {
          "output_type": "stream",
          "name": "stdout",
          "text": [
            "Running Gradio in a Colab notebook requires sharing enabled. Automatically setting `share=True` (you can turn this off by setting `share=False` in `launch()` explicitly).\n",
            "\n",
            "Colab notebook detected. To show errors in colab notebook, set debug=True in launch()\n",
            "* Running on public URL: https://7c205925138382cc2f.gradio.live\n",
            "\n",
            "This share link expires in 72 hours. For free permanent hosting and GPU upgrades, run `gradio deploy` from the terminal in the working directory to deploy to Hugging Face Spaces (https://huggingface.co/spaces)\n"
          ]
        },
        {
          "output_type": "display_data",
          "data": {
            "text/plain": [
              "<IPython.core.display.HTML object>"
            ],
            "text/html": [
              "<div><iframe src=\"https://7c205925138382cc2f.gradio.live\" width=\"100%\" height=\"500\" allow=\"autoplay; camera; microphone; clipboard-read; clipboard-write;\" frameborder=\"0\" allowfullscreen></iframe></div>"
            ]
          },
          "metadata": {}
        }
      ]
    },
    {
      "cell_type": "markdown",
      "source": [
        "## 3.影像輸出入範例\n",
        "\n",
        "當執行後，可支持三種影像輸入方式，直接上傳（支持從電腦檔案夾點擊或直接拖拉置放）、從網路攝影機直接拍照取像及貼上已剪貼簿中的影像。\n",
        "\n",
        "上傳影像後，按下「Submit」鍵，即可呼叫影像處理函式，這裡會令原始影像變成棕色影像顯示在輸出。"
      ],
      "metadata": {
        "id": "chyyEn6wyvTx"
      }
    },
    {
      "cell_type": "markdown",
      "source": [
        "### 3.1.使用 numpy 格式影像"
      ],
      "metadata": {
        "id": "0roWyydk99Uz"
      }
    },
    {
      "cell_type": "code",
      "source": [
        "#import gradio as gr # 導入 Gradio 函式庫並令別名為 gr\n",
        "#import numpy as np  # 導入 numpy 函式庫並令別名為 np\n",
        "\n",
        "# 定義影像處理函式 sepia()\n",
        "# 輸入： imput_image（影像）\n",
        "# 輸出： sepia_img（影像）\n",
        "def sepia(input_img):\n",
        "    sepia_filter = np.array([\n",
        "        [0.393, 0.769, 0.189],\n",
        "        [0.349, 0.686, 0.168],\n",
        "        [0.272, 0.534, 0.131]\n",
        "    ])\n",
        "    sepia_img = input_img.dot(sepia_filter.T) # 將影像點乘使其變成棕色\n",
        "    sepia_img /= sepia_img.max() # 進行影像正規化\n",
        "    return sepia_img\n",
        "\n",
        "# 建立輸人及輸出簡單應用介面\n",
        "# fn: 介面函數名稱， inputs: 輸人影像格式， outputs: 輸出影像\n",
        "demo = gr.Interface(sepia, gr.Image(), \"image\")\n",
        "\n",
        "# 執行顯示介面\n",
        "demo.launch()"
      ],
      "metadata": {
        "colab": {
          "base_uri": "https://localhost:8080/",
          "height": 648
        },
        "id": "RPsG8atHqaMT",
        "outputId": "62c8c943-fa23-4870-90b3-53fe346ef4bd"
      },
      "execution_count": 6,
      "outputs": [
        {
          "output_type": "stream",
          "name": "stdout",
          "text": [
            "Running Gradio in a Colab notebook requires sharing enabled. Automatically setting `share=True` (you can turn this off by setting `share=False` in `launch()` explicitly).\n",
            "\n",
            "Colab notebook detected. To show errors in colab notebook, set debug=True in launch()\n",
            "* Running on public URL: https://22fe3cf7408317df8f.gradio.live\n",
            "\n",
            "This share link expires in 72 hours. For free permanent hosting and GPU upgrades, run `gradio deploy` from the terminal in the working directory to deploy to Hugging Face Spaces (https://huggingface.co/spaces)\n"
          ]
        },
        {
          "output_type": "display_data",
          "data": {
            "text/plain": [
              "<IPython.core.display.HTML object>"
            ],
            "text/html": [
              "<div><iframe src=\"https://22fe3cf7408317df8f.gradio.live\" width=\"100%\" height=\"500\" allow=\"autoplay; camera; microphone; clipboard-read; clipboard-write;\" frameborder=\"0\" allowfullscreen></iframe></div>"
            ]
          },
          "metadata": {}
        },
        {
          "output_type": "execute_result",
          "data": {
            "text/plain": []
          },
          "metadata": {},
          "execution_count": 6
        }
      ]
    },
    {
      "cell_type": "markdown",
      "source": [
        "### 3.2.使用 OpenCV 格式影像"
      ],
      "metadata": {
        "id": "IyLgIm0n-RLD"
      }
    },
    {
      "cell_type": "code",
      "source": [
        "#import gradio as gr # 導入 Gradio 函式庫並令別名為 gr\n",
        "#import numpy as np  # 導入 numpy 函式庫並令別名為 np\n",
        "import cv2 # Colab 預設已安裝 opencv-python\n",
        "\n",
        "# 定義影像處理函式 sepia()\n",
        "# 輸入： imput_image（影像）\n",
        "# 輸出： sepia_img（影像）\n",
        "def sepia(input_img):\n",
        "    input_img = cv2.imread(input_img) # 從使用者根目錄讀取影像\n",
        "    sepia_filter = np.array([\n",
        "        [0.393, 0.769, 0.189],\n",
        "        [0.349, 0.686, 0.168],\n",
        "        [0.272, 0.534, 0.131]\n",
        "    ])\n",
        "    sepia_img = input_img.dot(sepia_filter.T) # 將影像點乘使其變成棕色\n",
        "    sepia_img /= sepia_img.max() # 進行影像正規化\n",
        "    return sepia_img\n",
        "\n",
        "# 建立輸人及輸出簡單應用介面\n",
        "# fn: 介面函數名稱， inputs: 輸人影像格式， outputs: 輸出影像\n",
        "demo = gr.Interface(sepia, gr.Image(type=\"filepath\"), \"image\")\n",
        "\n",
        "# 執行顯示介面\n",
        "demo.launch()"
      ],
      "metadata": {
        "colab": {
          "base_uri": "https://localhost:8080/",
          "height": 648
        },
        "id": "mw0AVWfD-NAK",
        "outputId": "074ea33b-1220-4182-8ec1-8e0003de83f8"
      },
      "execution_count": 7,
      "outputs": [
        {
          "output_type": "stream",
          "name": "stdout",
          "text": [
            "Running Gradio in a Colab notebook requires sharing enabled. Automatically setting `share=True` (you can turn this off by setting `share=False` in `launch()` explicitly).\n",
            "\n",
            "Colab notebook detected. To show errors in colab notebook, set debug=True in launch()\n",
            "* Running on public URL: https://338e3fa130b2b3ddbf.gradio.live\n",
            "\n",
            "This share link expires in 72 hours. For free permanent hosting and GPU upgrades, run `gradio deploy` from the terminal in the working directory to deploy to Hugging Face Spaces (https://huggingface.co/spaces)\n"
          ]
        },
        {
          "output_type": "display_data",
          "data": {
            "text/plain": [
              "<IPython.core.display.HTML object>"
            ],
            "text/html": [
              "<div><iframe src=\"https://338e3fa130b2b3ddbf.gradio.live\" width=\"100%\" height=\"500\" allow=\"autoplay; camera; microphone; clipboard-read; clipboard-write;\" frameborder=\"0\" allowfullscreen></iframe></div>"
            ]
          },
          "metadata": {}
        },
        {
          "output_type": "execute_result",
          "data": {
            "text/plain": []
          },
          "metadata": {},
          "execution_count": 7
        }
      ]
    },
    {
      "cell_type": "markdown",
      "source": [
        "## 4.影音輸出入範例\n",
        "\n",
        "為方便測試，會先下載兩個影音檔「Jack_OmniXRI.mp4」、「good_weather.wav」作為 Examples 。\n",
        "\n",
        "另外為豐富人機介面另外加上四個項目：\n",
        "\n",
        "*    title = 標題  \n",
        "*    description = 描述  \n",
        "*    examples = [ [樣本1影片, 樣本1聲音], [樣本2影片, 樣本2聲音] ]  \n",
        "*    article = 表單最後註腳，可使用 Markdown 語法  \n",
        "\n",
        "當按下 Examples 中文字時會自動載入影音檔到輸入欄位，若不想使用範例影音，亦可自行拖拉影音檔到輸入區。\n",
        "\n",
        "這裡的影音處理函式 av_identity 為空的，直接輸出原影音檔，若有需要可在此處增加所需程式。\n",
        "\n",
        "當按下「Submit」鍵後，會把輸入區之影音複製一份到輸出區。"
      ],
      "metadata": {
        "id": "iljAwH5_zNCf"
      }
    },
    {
      "cell_type": "code",
      "source": [
        "#import requests\n",
        "#from pathlib import Path\n",
        "#import sys\n",
        "\n",
        "# 從 Github 下載測試用影音檔並存於使用者根目錄\n",
        "r = requests.get(\n",
        "    url=\"https://github.com/OmniXRI/Hello_World_Gradio/raw/refs/heads/main/Jack_OmniXRI.mp4\",\n",
        ")\n",
        "\n",
        "with open(\"Jack_OmniXRI.mp4\", \"wb\") as f:\n",
        "  f.write(r.content)\n",
        "\n",
        "r = requests.get(\n",
        "    url=\"https://github.com/OmniXRI/Hello_World_Gradio/raw/refs/heads/main/good_weather_ZH.wav\",\n",
        ")\n",
        "\n",
        "with open(\"good_weather_ZH.wav\", \"wb\") as f:\n",
        "  f.write(r.content)\n",
        "\n",
        "#sys.path.append('./')  # 在 Colab 使用者根目錄 ./ 預設在 /content，將其加入方便開啟下載之檔案"
      ],
      "metadata": {
        "id": "h0K0lRgV9HEQ"
      },
      "execution_count": 8,
      "outputs": []
    },
    {
      "cell_type": "code",
      "source": [
        "#import gradio as gr # 導入 Gradio 函式庫並令別名為 gr\n",
        "\n",
        "# 定義影音處理函式(空處理)\n",
        "# 輸入： video（影片）、audio(聲音)\n",
        "# 輸出： video（影片）、audio(聲音)\n",
        "def av_identity(video, audio):\n",
        "    return video, audio\n",
        "\n",
        "# 建立輸人及輸出簡單應用介面\n",
        "# fn: 介面函數名稱， inputs: 輸人影像格式， outputs: 輸出影像\n",
        "demo = gr.Interface(\n",
        "       fn = av_identity,\n",
        "       inputs = [gr.Video(),\n",
        "                 gr.Audio()],\n",
        "       outputs = [\"video\",\n",
        "                  \"audio\"],\n",
        "       title = \"影音測試\",\n",
        "       description = \"操作說明：上傳影音檔或點擊 Examples 取得影音檔，再點擊 Submit 即可\",\n",
        "       examples = [[\"Jack_OmniXRI.mp4\", \"good_weather_ZH.wav\"]],\n",
        "       article = \"更多資訊可參考 [OmniXRI Github](https://github.com/OmniXRI/Hello_World_Gradio)\"\n",
        "    )\n",
        "\n",
        "# 執行顯示介面\n",
        "demo.launch()"
      ],
      "metadata": {
        "colab": {
          "base_uri": "https://localhost:8080/",
          "height": 648
        },
        "id": "GcQgEprWywHw",
        "outputId": "776edf15-fe28-4fe7-dcaf-c8a1c0281b52"
      },
      "execution_count": 9,
      "outputs": [
        {
          "output_type": "stream",
          "name": "stdout",
          "text": [
            "Running Gradio in a Colab notebook requires sharing enabled. Automatically setting `share=True` (you can turn this off by setting `share=False` in `launch()` explicitly).\n",
            "\n",
            "Colab notebook detected. To show errors in colab notebook, set debug=True in launch()\n",
            "* Running on public URL: https://8761bb35e379da1628.gradio.live\n",
            "\n",
            "This share link expires in 72 hours. For free permanent hosting and GPU upgrades, run `gradio deploy` from the terminal in the working directory to deploy to Hugging Face Spaces (https://huggingface.co/spaces)\n"
          ]
        },
        {
          "output_type": "display_data",
          "data": {
            "text/plain": [
              "<IPython.core.display.HTML object>"
            ],
            "text/html": [
              "<div><iframe src=\"https://8761bb35e379da1628.gradio.live\" width=\"100%\" height=\"500\" allow=\"autoplay; camera; microphone; clipboard-read; clipboard-write;\" frameborder=\"0\" allowfullscreen></iframe></div>"
            ]
          },
          "metadata": {}
        },
        {
          "output_type": "execute_result",
          "data": {
            "text/plain": []
          },
          "metadata": {},
          "execution_count": 9
        }
      ]
    }
  ]
}

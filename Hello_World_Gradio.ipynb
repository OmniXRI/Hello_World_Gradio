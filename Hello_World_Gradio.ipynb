{
  "nbformat": 4,
  "nbformat_minor": 0,
  "metadata": {
    "colab": {
      "provenance": []
    },
    "kernelspec": {
      "name": "python3",
      "display_name": "Python 3"
    },
    "language_info": {
      "name": "python"
    }
  },
  "cells": [
    {
      "cell_type": "markdown",
      "source": [],
      "metadata": {
        "id": "hiKb1i8hRGU3"
      }
    },
    {
      "cell_type": "markdown",
      "source": [
        "# Gradio 應用範例\n",
        "by Jack OmniXRI, 2024/12/15\n",
        "\n"
      ],
      "metadata": {
        "id": "J9mul7sHRiI_"
      }
    },
    {
      "cell_type": "markdown",
      "source": [
        "## 安裝 Gradio 及必要函式庫"
      ],
      "metadata": {
        "id": "fNGe1F1KSBju"
      }
    },
    {
      "cell_type": "code",
      "execution_count": 10,
      "metadata": {
        "id": "7GqdmUDlQytb",
        "colab": {
          "base_uri": "https://localhost:8080/"
        },
        "outputId": "97ecb09f-70f9-4b69-bcb0-178d22078c6b"
      },
      "outputs": [
        {
          "output_type": "stream",
          "name": "stdout",
          "text": [
            "Requirement already satisfied: requests in /usr/local/lib/python3.10/dist-packages (2.32.3)\n",
            "Requirement already satisfied: charset-normalizer<4,>=2 in /usr/local/lib/python3.10/dist-packages (from requests) (3.4.0)\n",
            "Requirement already satisfied: idna<4,>=2.5 in /usr/local/lib/python3.10/dist-packages (from requests) (3.10)\n",
            "Requirement already satisfied: urllib3<3,>=1.21.1 in /usr/local/lib/python3.10/dist-packages (from requests) (2.2.3)\n",
            "Requirement already satisfied: certifi>=2017.4.17 in /usr/local/lib/python3.10/dist-packages (from requests) (2024.8.30)\n"
          ]
        }
      ],
      "source": [
        "!pip install -q gradio\n",
        "!pip install requests\n",
        "\n",
        "import gradio as gr # 導入 Gradio 函式庫並令別名為 gr"
      ]
    },
    {
      "cell_type": "markdown",
      "source": [
        "## 文字輸入及輸出範例\n",
        "\n",
        "測試結果可直接呈現在 Jupyter Notebook 欄位上或本地端網址（Local URL, http://localhost:7860 ）或公共端網址（public URL, https://xxxx.gradio.live ），點擊網址即可看到結果。"
      ],
      "metadata": {
        "id": "VttqfAp3SK3R"
      }
    },
    {
      "cell_type": "markdown",
      "source": [
        "### *簡單應用界面一（簡單型）*\n",
        "\n",
        "當在 name 欄位輸入「名字」並按下「Submit」鍵，就會產生對應處理函式的輸出文字內容，這裡會得到「Hello 名字!!」 。\n",
        "\n",
        "當按下「Clear」鍵可清除輸入及輸出結果。  "
      ],
      "metadata": {
        "id": "kiFHwckUT2if"
      }
    },
    {
      "cell_type": "code",
      "source": [
        "#import gradio as gr # 導入 Gradio 函式庫並令別名為 gr\n",
        "\n",
        "# 定義 Gradio 輸出入處理函式 greet1()\n",
        "# 輸入文字： name（字串）\n",
        "# 輸出結果： \"Hello name!!\"（字串）\n",
        "def greet1(name):\n",
        "  return \"Hello \" + name + \"!!\"\n",
        "\n",
        "# 建立輸人及輸出簡單應用界面\n",
        "# fn: 界面函數名稱， inputs: 輸人格式， outputs: 輸出格式\n",
        "demo = gr.Interface(fn=greet1, inputs=\"text\", outputs=\"text\")\n",
        "\n",
        "# 執行顯示界面\n",
        "demo.launch()"
      ],
      "metadata": {
        "colab": {
          "base_uri": "https://localhost:8080/",
          "height": 648
        },
        "id": "Tj24cJTKTIeX",
        "outputId": "65ffcc65-1fe6-4271-e610-5aac27a9f256"
      },
      "execution_count": 11,
      "outputs": [
        {
          "output_type": "stream",
          "name": "stdout",
          "text": [
            "Running Gradio in a Colab notebook requires sharing enabled. Automatically setting `share=True` (you can turn this off by setting `share=False` in `launch()` explicitly).\n",
            "\n",
            "Colab notebook detected. To show errors in colab notebook, set debug=True in launch()\n",
            "* Running on public URL: https://38713508e03577599c.gradio.live\n",
            "\n",
            "This share link expires in 72 hours. For free permanent hosting and GPU upgrades, run `gradio deploy` from the terminal in the working directory to deploy to Hugging Face Spaces (https://huggingface.co/spaces)\n"
          ]
        },
        {
          "output_type": "display_data",
          "data": {
            "text/plain": [
              "<IPython.core.display.HTML object>"
            ],
            "text/html": [
              "<div><iframe src=\"https://38713508e03577599c.gradio.live\" width=\"100%\" height=\"500\" allow=\"autoplay; camera; microphone; clipboard-read; clipboard-write;\" frameborder=\"0\" allowfullscreen></iframe></div>"
            ]
          },
          "metadata": {}
        },
        {
          "output_type": "execute_result",
          "data": {
            "text/plain": []
          },
          "metadata": {},
          "execution_count": 11
        }
      ]
    },
    {
      "cell_type": "markdown",
      "source": [
        "### *簡單應用介面二（複雜型）*\n",
        "\n",
        "在這個範例可指定較複雜的設定。\n",
        "\n",
        "當在 name 欄位輸入「名字」，點選或解除「是早上」複選盒，拉動滑桿或直接輸入華氏溫度數值並按下「Submit」鍵，就會產生處理函式的輸出文字內容及溫度。\n",
        "\n",
        "當按下「Clear」鍵可清除輸入及輸出結果。  "
      ],
      "metadata": {
        "id": "S75VsTuMILkJ"
      }
    },
    {
      "cell_type": "code",
      "source": [
        "#import gradio as gr # 導入 Gradio 函式庫並令別名為 gr\n",
        "\n",
        "# 定義 Gradio 輸出入處理函式 greet2()\n",
        "# 輸入： name（字串）、is_morning（布林值）、temperature（數值）\n",
        "# 輸出： \"Good morning name, It is xx.x ℉ today\"（字串）、攝氏溫度（數值）\n",
        "def greet2(name, is_morning, temperature):\n",
        "    salutation = \"Good morning\" if is_morning else \"Good evening\" # 若複選盒有勾選則輸出 \"Good morning\", 否則輸出 \"Good evening\"\n",
        "    greeting = f\"{salutation} {name}. It is {temperature} ℉ today\" # 組合輸出用字串\n",
        "    celsius = (temperature - 32) * 5 / 9 # 將華氏溫度轉成攝氏\n",
        "    return greeting, round(celsius, 2)\n",
        "\n",
        "# 建立輸人及輸出簡單應用界面\n",
        "# fn: 界面函數名稱\n",
        "# inputs: 輸人格式， 名字（字串）、是早上（複選盒）、華氏溫度（滑桿，最小值0，最大值100，預設值50）\n",
        "# outputs: 輸出格式，結果字串（標籤 Reslut）、結果溫度（標籤 攝氏（℃））\n",
        "demo = gr.Interface(\n",
        "    fn=greet2,\n",
        "    inputs=[gr.Textbox(placeholder=\"請輸入姓名\", label=\"姓名\"), \"checkbox\", gr.Slider(0, 100, value=50, label=\"華氏（℉）\")],\n",
        "    outputs=[gr.Textbox(label=\"輸出\"), gr.Textbox(label=\"攝氏（℃）\")],\n",
        ")\n",
        "\n",
        "# 執行顯示界面\n",
        "demo.launch()"
      ],
      "metadata": {
        "colab": {
          "base_uri": "https://localhost:8080/",
          "height": 648
        },
        "id": "yy-X9ii7IKiR",
        "outputId": "9d33a884-5226-47ff-a2c5-dca5984be7f5"
      },
      "execution_count": 12,
      "outputs": [
        {
          "output_type": "stream",
          "name": "stdout",
          "text": [
            "Running Gradio in a Colab notebook requires sharing enabled. Automatically setting `share=True` (you can turn this off by setting `share=False` in `launch()` explicitly).\n",
            "\n",
            "Colab notebook detected. To show errors in colab notebook, set debug=True in launch()\n",
            "* Running on public URL: https://8e3fc8cb81d7bd9065.gradio.live\n",
            "\n",
            "This share link expires in 72 hours. For free permanent hosting and GPU upgrades, run `gradio deploy` from the terminal in the working directory to deploy to Hugging Face Spaces (https://huggingface.co/spaces)\n"
          ]
        },
        {
          "output_type": "display_data",
          "data": {
            "text/plain": [
              "<IPython.core.display.HTML object>"
            ],
            "text/html": [
              "<div><iframe src=\"https://8e3fc8cb81d7bd9065.gradio.live\" width=\"100%\" height=\"500\" allow=\"autoplay; camera; microphone; clipboard-read; clipboard-write;\" frameborder=\"0\" allowfullscreen></iframe></div>"
            ]
          },
          "metadata": {}
        },
        {
          "output_type": "execute_result",
          "data": {
            "text/plain": []
          },
          "metadata": {},
          "execution_count": 12
        }
      ]
    },
    {
      "cell_type": "markdown",
      "source": [
        "### 執行預設計 GUI (*.py)\n",
        "\n",
        "假設想要把上一步驟的 GUI 變成可引用之函式，可將後半段程式變成名為 launch_demo 的函式，再將程式儲存成 gradio_test.py 的程式，放在同一路徑下即可。\n",
        "\n",
        "若在 Colab 下運行本程式時，需先自行下載到 Colab 提供的臨時雲端硬碟，預設使用者根目錄路徑為 content。由於執行路徑並不包含此路徑，所以還需使用 sys.path.append() 將路徑加入才能正確引用。\n",
        "\n",
        "若在本地端執行則不用增加該目錄。\n",
        "\n"
      ],
      "metadata": {
        "id": "AHcRat_dqsNG"
      }
    },
    {
      "cell_type": "code",
      "source": [
        "import requests\n",
        "from pathlib import Path\n",
        "import sys\n",
        "\n",
        "# 從 Github 下載 gradio_test.py 並存於使用者根目錄\n",
        "r = requests.get(\n",
        "    url=\"https://raw.githubusercontent.com/OmniXRI/Hello_World_Gradio/main/gradio_test.py\",\n",
        ")\n",
        "open(\"gradio_test.py\", \"w\").write(r.text)\n",
        "\n",
        "sys.path.append('./')  # 在 Colab 預設 /content 為使用者根目錄\n",
        "\n",
        "from gradio_test import launch_demo\n",
        "\n",
        "launch_demo()"
      ],
      "metadata": {
        "colab": {
          "base_uri": "https://localhost:8080/",
          "height": 648
        },
        "id": "F7T1zXfnqq1U",
        "outputId": "1c6686df-a432-45db-9a79-b8d050fae8ed"
      },
      "execution_count": 16,
      "outputs": [
        {
          "output_type": "stream",
          "name": "stdout",
          "text": [
            "Running Gradio in a Colab notebook requires sharing enabled. Automatically setting `share=True` (you can turn this off by setting `share=False` in `launch()` explicitly).\n",
            "\n",
            "Colab notebook detected. To show errors in colab notebook, set debug=True in launch()\n",
            "* Running on public URL: https://936b14d82c0e284d26.gradio.live\n",
            "\n",
            "This share link expires in 72 hours. For free permanent hosting and GPU upgrades, run `gradio deploy` from the terminal in the working directory to deploy to Hugging Face Spaces (https://huggingface.co/spaces)\n"
          ]
        },
        {
          "output_type": "display_data",
          "data": {
            "text/plain": [
              "<IPython.core.display.HTML object>"
            ],
            "text/html": [
              "<div><iframe src=\"https://936b14d82c0e284d26.gradio.live\" width=\"100%\" height=\"500\" allow=\"autoplay; camera; microphone; clipboard-read; clipboard-write;\" frameborder=\"0\" allowfullscreen></iframe></div>"
            ]
          },
          "metadata": {}
        }
      ]
    },
    {
      "cell_type": "code",
      "source": [],
      "metadata": {
        "id": "RPsG8atHqaMT"
      },
      "execution_count": 13,
      "outputs": []
    }
  ]
}